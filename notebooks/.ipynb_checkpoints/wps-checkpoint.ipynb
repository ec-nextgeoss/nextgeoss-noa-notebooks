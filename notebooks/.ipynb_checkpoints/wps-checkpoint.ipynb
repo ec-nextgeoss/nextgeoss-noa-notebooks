{
 "cells": [
  {
   "cell_type": "markdown",
   "metadata": {},
   "source": [
    "# NextGEOSS\n",
    "## Invoke the NOA's Multi-hazard Enhanced Risk Assessment service using JupyterLab"
   ]
  },
  {
   "cell_type": "markdown",
   "metadata": {},
   "source": [
    "### Inspect the OGC WPS capabilities"
   ]
  },
  {
   "cell_type": "code",
   "execution_count": 1,
   "metadata": {},
   "outputs": [],
   "source": [
    "from owslib.wps import WebProcessingService\n",
    "from owslib.wps import monitorExecution\n",
    "from owslib.wps import printInputOutput"
   ]
  },
  {
   "cell_type": "code",
   "execution_count": 2,
   "metadata": {},
   "outputs": [],
   "source": [
    "wps_url = \"http://stamps-deploy.noa.nextgeoss.terradue.com/wps/WebProcessingService\""
   ]
  },
  {
   "cell_type": "code",
   "execution_count": 3,
   "metadata": {},
   "outputs": [],
   "source": [
    "wps = WebProcessingService(wps_url, verbose=False, skip_caps=True)"
   ]
  },
  {
   "cell_type": "code",
   "execution_count": 4,
   "metadata": {},
   "outputs": [],
   "source": [
    "wps.getcapabilities()"
   ]
  },
  {
   "cell_type": "code",
   "execution_count": 5,
   "metadata": {},
   "outputs": [
    {
     "name": "stdout",
     "output_type": "stream",
     "text": [
      "GetCapabilities\n",
      "DescribeProcess\n",
      "Execute\n"
     ]
    }
   ],
   "source": [
    "for operation in wps.operations:\n",
    "    print operation.name"
   ]
  },
  {
   "cell_type": "code",
   "execution_count": 6,
   "metadata": {},
   "outputs": [
    {
     "name": "stdout",
     "output_type": "stream",
     "text": [
      "com.terradue.wps_oozie.process.OozieAbstractAlgorithm\n"
     ]
    }
   ],
   "source": [
    "for process in wps.processes:\n",
    "    print process.identifier"
   ]
  },
  {
   "cell_type": "markdown",
   "metadata": {},
   "source": [
    "### Inspect the OGC WPS process information and inputs"
   ]
  },
  {
   "cell_type": "code",
   "execution_count": 7,
   "metadata": {},
   "outputs": [],
   "source": [
    "process_id = 'com.terradue.wps_oozie.process.OozieAbstractAlgorithm'\n",
    "process = wps.describeprocess(process_id)"
   ]
  },
  {
   "cell_type": "code",
   "execution_count": 8,
   "metadata": {},
   "outputs": [
    {
     "data": {
      "text/plain": [
       "'Run Stamps v4.1b'"
      ]
     },
     "execution_count": 8,
     "metadata": {},
     "output_type": "execute_result"
    }
   ],
   "source": [
    "process.title"
   ]
  },
  {
   "cell_type": "code",
   "execution_count": 9,
   "metadata": {},
   "outputs": [
    {
     "data": {
      "text/plain": [
       "'Run Stamps v4.1b persistent scatterer with Terradue Hadoop'"
      ]
     },
     "execution_count": 9,
     "metadata": {},
     "output_type": "execute_result"
    }
   ],
   "source": [
    "process.abstract"
   ]
  },
  {
   "cell_type": "code",
   "execution_count": 10,
   "metadata": {},
   "outputs": [
    {
     "name": "stdout",
     "output_type": "stream",
     "text": [
      " identifier=outputdir, title=Processing folder, abstract=Path to Processing directory, data type=string\n",
      " Any value allowed\n",
      " Default Value: /shared/ath_sent1_test3/stamps_steps_1 \n",
      " minOccurs=1, maxOccurs=1\n",
      "***\n",
      " identifier=realrun15, title=Run Steps 1-5, abstract=Values: Yes No, data type=string\n",
      " Any value allowed\n",
      " Default Value: no \n",
      " minOccurs=1, maxOccurs=1\n",
      "***\n",
      " identifier=runsteps15, title=Run Steps Range (1-5), abstract=Values: x-y (min x = 1, max y = 5), data type=string\n",
      " Any value allowed\n",
      " Default Value: 1-5 \n",
      " minOccurs=1, maxOccurs=1\n",
      "***\n",
      " identifier=realrun57, title=Run Steps 5-7, abstract=Values: Yes No, data type=string\n",
      " Any value allowed\n",
      " Default Value: no \n",
      " minOccurs=1, maxOccurs=1\n",
      "***\n",
      " identifier=runsteps57, title=Run Steps Range (5-7), abstract=Values: x-y (min x = 5, max y = 7), data type=string\n",
      " Any value allowed\n",
      " Default Value: 5-7 \n",
      " minOccurs=1, maxOccurs=1\n",
      "***\n",
      " identifier=cleanup, title=Clean up processing folder, abstract=Values: Yes No, data type=string\n",
      " Any value allowed\n",
      " Default Value: no \n",
      " minOccurs=1, maxOccurs=1\n",
      "***\n",
      " identifier=pub, title=Publish Processing folder, abstract=Values: Yes No, data type=string\n",
      " Any value allowed\n",
      " Default Value: no \n",
      " minOccurs=1, maxOccurs=1\n",
      "***\n"
     ]
    }
   ],
   "source": [
    "for input in process.dataInputs:\n",
    "    printInputOutput(input)\n",
    "    print '***'"
   ]
  },
  {
   "cell_type": "markdown",
   "metadata": {},
   "source": [
    "### Prepare the execution request"
   ]
  },
  {
   "cell_type": "code",
   "execution_count": 11,
   "metadata": {},
   "outputs": [],
   "source": [
    "inputs = []\n",
    "inputs.append(('outputdir','/shared/ath_sent1_test3/stamps_steps_1'))\n",
    "inputs.append(('realrun15','no'))\n",
    "inputs.append(('runsteps15','1-5'))\n",
    "inputs.append(('realrun57','no'))\n",
    "inputs.append(('runsteps57','5-7'))\n",
    "inputs.append(('cleanup','no'))\n",
    "inputs.append(('pub','no'))\n",
    "\n",
    "\n",
    "outputs = [('result_osd',True)]"
   ]
  },
  {
   "cell_type": "markdown",
   "metadata": {},
   "source": [
    "### Execute and monitor the request"
   ]
  },
  {
   "cell_type": "code",
   "execution_count": 12,
   "metadata": {},
   "outputs": [],
   "source": [
    "execution = wps.execute(process_id, inputs, outputs)"
   ]
  },
  {
   "cell_type": "code",
   "execution_count": 13,
   "metadata": {},
   "outputs": [],
   "source": [
    "monitorExecution(execution)"
   ]
  },
  {
   "cell_type": "code",
   "execution_count": 14,
   "metadata": {},
   "outputs": [
    {
     "data": {
      "text/plain": [
       "True"
      ]
     },
     "execution_count": 14,
     "metadata": {},
     "output_type": "execute_result"
    }
   ],
   "source": [
    "execution.isSucceded()"
   ]
  },
  {
   "cell_type": "markdown",
   "metadata": {},
   "source": [
    "### Access the results' OpenSearch Description (osd)"
   ]
  },
  {
   "cell_type": "code",
   "execution_count": 15,
   "metadata": {},
   "outputs": [
    {
     "name": "stdout",
     "output_type": "stream",
     "text": [
      "result_osd\n"
     ]
    }
   ],
   "source": [
    "for output in execution.processOutputs:\n",
    "    print(output.identifier)"
   ]
  },
  {
   "cell_type": "code",
   "execution_count": 16,
   "metadata": {},
   "outputs": [],
   "source": [
    "results_osd = execution.processOutputs[0].reference"
   ]
  },
  {
   "cell_type": "code",
   "execution_count": 17,
   "metadata": {},
   "outputs": [
    {
     "name": "stdout",
     "output_type": "stream",
     "text": [
      "http://stamps-deploy.noa.nextgeoss.terradue.com/wps/RetrieveResultServlet?id=4ca86c38-d7f9-4420-be3e-5e3eccb42ea0result_osd.eee13040-cca8-469c-906c-4c42a13600e4\n"
     ]
    }
   ],
   "source": [
    "print results_osd"
   ]
  },
  {
   "cell_type": "code",
   "execution_count": 18,
   "metadata": {},
   "outputs": [
    {
     "data": {
      "text/plain": [
       "u'<?xml version=\\'1.0\\' encoding=\\'UTF-8\\'?><ns:Reference xmlns:ns=\"http://www.opengis.net/wps/1.0.0\" href=\"http://stamps-deploy.noa.nextgeoss.terradue.com/sbws/wps/dcs-stamps4-aa/0000003-190621125042955-oozie-oozi-W/results/description\" method=\"GET\" mimeType=\"application/opensearchdescription+xml\"/>'"
      ]
     },
     "execution_count": 18,
     "metadata": {},
     "output_type": "execute_result"
    }
   ],
   "source": [
    "import requests\n",
    "r = requests.get(results_osd)\n",
    "r.text"
   ]
  },
  {
   "cell_type": "code",
   "execution_count": 19,
   "metadata": {},
   "outputs": [
    {
     "data": {
      "text/plain": [
       "'http://stamps-deploy.noa.nextgeoss.terradue.com/sbws/wps/dcs-stamps4-aa/0000003-190621125042955-oozie-oozi-W/results/description'"
      ]
     },
     "execution_count": 19,
     "metadata": {},
     "output_type": "execute_result"
    }
   ],
   "source": [
    "import xml.etree.ElementTree as ET\n",
    "root = ET.fromstring(r.text)\n",
    "root.attrib['href']"
   ]
  },
  {
   "cell_type": "markdown",
   "metadata": {},
   "source": [
    "### Perform an OpenSearch query for the results enclosures"
   ]
  },
  {
   "cell_type": "code",
   "execution_count": 20,
   "metadata": {},
   "outputs": [],
   "source": [
    "import cioppy"
   ]
  },
  {
   "cell_type": "code",
   "execution_count": 21,
   "metadata": {},
   "outputs": [],
   "source": [
    "ciop = cioppy.Cioppy()"
   ]
  },
  {
   "cell_type": "code",
   "execution_count": 22,
   "metadata": {},
   "outputs": [],
   "source": [
    "search = ciop.search(end_point = root.attrib['href'],\n",
    "                     params = [],\n",
    "                     output_fields='enclosure')"
   ]
  },
  {
   "cell_type": "code",
   "execution_count": 23,
   "metadata": {},
   "outputs": [
    {
     "name": "stdout",
     "output_type": "stream",
     "text": [
      "\n"
     ]
    }
   ],
   "source": [
    "for result in search:\n",
    "    print result['enclosure']"
   ]
  },
  {
   "cell_type": "markdown",
   "metadata": {},
   "source": [
    "### Download an output file"
   ]
  },
  {
   "cell_type": "markdown",
   "metadata": {},
   "source": [
    "The following section can be leveraged when published results are available."
   ]
  },
  {
   "cell_type": "code",
   "execution_count": 24,
   "metadata": {},
   "outputs": [],
   "source": [
    "#search[0]['enclosure']"
   ]
  },
  {
   "cell_type": "code",
   "execution_count": 25,
   "metadata": {},
   "outputs": [],
   "source": [
    "#r = requests.get(search[0]['enclosure'],stream=True)"
   ]
  },
  {
   "cell_type": "code",
   "execution_count": 26,
   "metadata": {},
   "outputs": [],
   "source": [
    "#with open('output', 'wb') as fd:\n",
    "#    for chunk in r.iter_content(chunk_size=128):\n",
    "#        fd.write(chunk)"
   ]
  }
 ],
 "metadata": {
  "kernelspec": {
   "display_name": "Python [conda env:python2]",
   "language": "python",
   "name": "conda-env-python2-py"
  },
  "language_info": {
   "codemirror_mode": {
    "name": "ipython",
    "version": 2
   },
   "file_extension": ".py",
   "mimetype": "text/x-python",
   "name": "python",
   "nbconvert_exporter": "python",
   "pygments_lexer": "ipython2",
   "version": "2.7.12"
  }
 },
 "nbformat": 4,
 "nbformat_minor": 2
}
